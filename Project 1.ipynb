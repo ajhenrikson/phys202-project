{
 "cells": [
  {
   "cell_type": "markdown",
   "metadata": {
    "collapsed": true
   },
   "source": [
    "Abstract"
   ]
  },
  {
   "cell_type": "markdown",
   "metadata": {},
   "source": [
    "This project is ment to answer 3 questions. the first question is the recreation of the direct passage of two galaxies, that is when two 2D galaxies come together in the direction of the spin of the relative \"fixed\" galaxy. The second question  will be the S3+ initial conditions and the third will be the S5 initial conditions. For the first recreation i will be attempting to form a derivs equation using the two second derivative functions that were prvided and that are listed below then using a version of the odeint function will attempt to get two sets of points describing the relative postions of the point masses around the stationary galaxy and the postition of the moving galaxy in relation to the stationary one. Both the second and third questions will begin with variations on the original derivative function using different initial values to prove the other questions. I have been having some trouble getting started on this project any feedback at all would be very welcome."
   ]
  },
  {
   "cell_type": "code",
   "execution_count": 220,
   "metadata": {
    "collapsed": false
   },
   "outputs": [],
   "source": [
    "%matplotlib inline\n",
    "import matplotlib.pyplot as plt\n",
    "import numpy as np\n",
    "from scipy.integrate import odeint\n",
    "from IPython.html.widgets import interact, fixed\n",
    "import Equation_Sheet as es\n",
    "gamma=4.5e-8"
   ]
  },
  {
   "cell_type": "markdown",
   "metadata": {},
   "source": [
    "My first question is a recreation of the direct passage in the aritcle. This will (hopefully) recreate the static images in the paper as well as create moving plots to showcase the actuall happenings not evident in the static images. The second question is almost the same as the original question but the initial conditions have been changed and adapted to a new situation as is the third question."
   ]
  },
  {
   "cell_type": "markdown",
   "metadata": {},
   "source": [
    "$$ \\ddot{\\mathbf{r}} = -\\gamma \\left\\{ \\frac{M}{r^3}\\mathbf{r} -\\frac{S}{\\rho^3}\\boldsymbol{\\rho} + \\frac{S}{R^3}\\boldsymbol\\Re \\right\\} $$\n",
    "\n",
    "$$ \\ddot{\\boldsymbol\\Re} = -\\gamma \\frac{M+S}{R^3}\\boldsymbol\\Re$$"
   ]
  },
  {
   "cell_type": "code",
   "execution_count": 221,
   "metadata": {
    "collapsed": false
   },
   "outputs": [
    {
     "data": {
      "text/plain": [
       "'Units:\\n    Length: Kiloparsecs\\n    Mass: Solar Units (1.99x10^(30)\\n    Time: Ages (100,000,000 yrs)'"
      ]
     },
     "execution_count": 221,
     "metadata": {},
     "output_type": "execute_result"
    }
   ],
   "source": [
    "\"\"\"Units:\n",
    "    Length: Kiloparsecs\n",
    "    Mass: Solar Units (1.99x10^(30)\n",
    "    Time: Ages (100,000,000 yrs)\"\"\""
   ]
  },
  {
   "cell_type": "markdown",
   "metadata": {},
   "source": [
    "ivec=(x,dx,y,dy,X,dX,Y,dY)"
   ]
  },
  {
   "cell_type": "code",
   "execution_count": 222,
   "metadata": {
    "collapsed": false
   },
   "outputs": [
    {
     "name": "stdout",
     "output_type": "stream",
     "text": [
      "[  2.00000000e+00  -7.82111694e-09   4.00000000e+00  -3.76954385e-08\n",
      "   6.00000000e+00  -7.06911317e-09   8.00000000e+00  -9.89675843e-09]\n"
     ]
    }
   ],
   "source": [
    "def derivs2(ivec,t,M,S):\n",
    "        x=ivec[0]\n",
    "        vx=ivec[1]\n",
    "        y=ivec[2]\n",
    "        vy=ivec[3]\n",
    "        \n",
    "        X=ivec[4]\n",
    "        Vx=ivec[5]\n",
    "        Y=ivec[6]\n",
    "        Vy=ivec[7]\n",
    "        \n",
    "        dx=vx\n",
    "        dy=vy\n",
    "        \n",
    "        dX=Vx\n",
    "        dY=Vy\n",
    "        \n",
    "        r=np.sqrt(x**2+y**2)\n",
    "        R=np.sqrt(X**2+Y**2)      \n",
    "        \n",
    "        rho=np.sqrt((X-x)**2+(Y-y)**2)\n",
    "        rhoy=Y-y\n",
    "        rhox=X-x\n",
    "        \n",
    "        dvx = -gamma*((M/r**3)*x-(S/rho**3)*rhox+(S/R**3)*X)\n",
    "        dVx = -gamma*((M+S)/R**3)*X\n",
    "        \n",
    "        dvy = -gamma*((M/r**3)*y-(S/rho**3)*rhoy+(S/R**3)*Y)\n",
    "        dVy = -gamma*((M+S)/R**3)*Y\n",
    "        return np.array([dx,dvx,dy,dvy,dX,dVx,dY,dVy])\n",
    "    \n",
    "print derivs2(np.array([1,2,3,4,5,6,7,8]),10,10,10)      \n"
   ]
  },
  {
   "cell_type": "code",
   "execution_count": 223,
   "metadata": {
    "collapsed": false
   },
   "outputs": [],
   "source": [
    "def sol(ic, max_t, ntimes, M, S):\n",
    "    t = np.linspace(0.0, max_t, ntimes)\n",
    "    s = odeint(derivs2, ic, t, args=(M,S))\n",
    "    return s\n",
    "#print sol(ic,1,500,1e2,1e2)"
   ]
  },
  {
   "cell_type": "code",
   "execution_count": 224,
   "metadata": {
    "collapsed": false
   },
   "outputs": [
    {
     "data": {
      "text/plain": [
       "'pass arrays to radii and nstars'"
      ]
     },
     "execution_count": 224,
     "metadata": {},
     "output_type": "execute_result"
    }
   ],
   "source": [
    "\"\"\"pass arrays to radii and nstars\"\"\""
   ]
  },
  {
   "cell_type": "code",
   "execution_count": 225,
   "metadata": {
    "collapsed": false
   },
   "outputs": [],
   "source": [
    "def generate_star_ics(M, radii, nstars):\n",
    "#     radii = [0.1, 0.2, 0.3]\n",
    "#     nstars = [10, 15, 20]\n",
    "    ics = []\n",
    "    for i in range(len(radii)):\n",
    "        r = radii[i]\n",
    "        N = nstars[i]\n",
    "        theta = np.arange(0.0, 2.0*np.pi, 2.0*np.pi/N)\n",
    "        for t in range(N):\n",
    "            x = r*np.cos(theta[t])\n",
    "            y = r*np.sin(theta[t])\n",
    "            v = np.sqrt((gamma*M)/r)\n",
    "            vx = -v*np.sin(theta[t])\n",
    "            vy = v*np.cos(theta[t])\n",
    "            ics.append(np.array([x,vx,y,vy]))\n",
    "    return ics"
   ]
  },
  {
   "cell_type": "code",
   "execution_count": 226,
   "metadata": {
    "collapsed": false
   },
   "outputs": [],
   "source": [
    "#ics = generate_star_ics(1.0, [0.1,0.2,0.3,0.4,0.5], [10,20,30,40,50])"
   ]
  },
  {
   "cell_type": "code",
   "execution_count": 227,
   "metadata": {
    "collapsed": false
   },
   "outputs": [],
   "source": [
    "# x = [ic[0] for ic in ics]\n",
    "# y = [ic[2] for ic in ics]\n",
    "\n",
    "# plt.figure(figsize=(7,7))\n",
    "# plt.scatter(x,y);"
   ]
  },
  {
   "cell_type": "code",
   "execution_count": 228,
   "metadata": {
    "collapsed": false
   },
   "outputs": [],
   "source": [
    "def angle(Y,r0):\n",
    "    return np.arctan(2.0*r0/Y)"
   ]
  },
  {
   "cell_type": "code",
   "execution_count": 229,
   "metadata": {
    "collapsed": false
   },
   "outputs": [],
   "source": [
    "def generate_gala_ics(M,S,r0,m):\n",
    "    Y = m*r0\n",
    "    X = (-Y**2.0)/(4.0*r0)+r0\n",
    "    V=np.sqrt(2.0*gamma*(M+S)/np.sqrt(X**2+Y**2))\n",
    "    Vx = V*np.cos(angle(Y,r0))\n",
    "    Vy = -V*np.sin(angle(Y,r0))\n",
    "    return np.array([X,Vx,Y,Vy])"
   ]
  },
  {
   "cell_type": "code",
   "execution_count": 230,
   "metadata": {
    "collapsed": false
   },
   "outputs": [
    {
     "data": {
      "text/plain": [
       "array([ -3.12500000e+01,   3.91628371e-05,   7.50000000e+01,\n",
       "        -2.61085581e-05])"
      ]
     },
     "execution_count": 230,
     "metadata": {},
     "output_type": "execute_result"
    }
   ],
   "source": [
    "generate_gala_ics(1.0,1.0,25.0,3.0)"
   ]
  },
  {
   "cell_type": "code",
   "execution_count": 231,
   "metadata": {
    "collapsed": true
   },
   "outputs": [],
   "source": [
    "def make_stars(M,S,radii,nstars,r0,m):\n",
    "    star_ics = generate_star_ics(M,radii,nstars) # [np.array([x,vx,y,vy]), np.array([]), ...]\n",
    "    gala_ics = generate_gala_ics(M,S,r0,m) # np.array([X,Vx,Y,Vy])\n",
    "    #ics[0] -> x, vx, y, vy\n",
    "    starx = []\n",
    "    stary = []\n",
    "    for sic in star_ics:\n",
    "        ic = np.hstack([sic, gala_ics])\n",
    "#        print ic[0]\n",
    "        result = sol( ic, 50.0, 500, M, S)\n",
    "#        print result\n",
    "        starx.append(result[:,0])\n",
    "        stary.append(result[:,2])\n",
    "        galax = result[:,4]\n",
    "        galay = result[:,6]\n",
    "    starx = np.transpose(np.array(starx))\n",
    "    stary = np.transpose(np.array(stary))\n",
    "    return starx, stary, galax, galay"
   ]
  },
  {
   "cell_type": "code",
   "execution_count": 232,
   "metadata": {
    "collapsed": true
   },
   "outputs": [],
   "source": [
    "def plot_solution(starx, stary, galax, galay, j, lim):\n",
    "    px=np.linspace(-100,100,100)\n",
    "    r0=25.0\n",
    "    py=-px**2/(4.0*r0)+r0\n",
    "    plt.plot(py,px)\n",
    "    plt.scatter(starx[j],stary[j],color='b')\n",
    "    plt.scatter(galax[j],galay[j],color='g')\n",
    "    plt.scatter(0,0,color='r')\n",
    "    plt.xlim(-lim,lim)\n",
    "    plt.ylim(-lim,lim)"
   ]
  },
  {
   "cell_type": "code",
   "execution_count": null,
   "metadata": {
    "collapsed": true
   },
   "outputs": [],
   "source": []
  },
  {
   "cell_type": "code",
   "execution_count": 233,
   "metadata": {
    "collapsed": false
   },
   "outputs": [
    {
     "name": "stdout",
     "output_type": "stream",
     "text": [
      "(4, 4)\n"
     ]
    }
   ],
   "source": [
    "M = 1e10\n",
    "S = 1e10\n",
    "radii= [5,10,15,20]\n",
    "nstars= [10,15,20,30]\n",
    "print(len(radii), len(nstars))\n",
    "r0=25.0\n",
    "m=3.0"
   ]
  },
  {
   "cell_type": "code",
   "execution_count": 234,
   "metadata": {
    "collapsed": false,
    "scrolled": true
   },
   "outputs": [],
   "source": [
    "starx,stary,galax,galay=make_stars(M,S,radii,nstars,r0,m)"
   ]
  },
  {
   "cell_type": "code",
   "execution_count": 235,
   "metadata": {
    "collapsed": false,
    "scrolled": true
   },
   "outputs": [
    {
     "data": {
      "image/png": "[encoded data removed]",
      "text/plain": [
       "<matplotlib.figure.Figure at 0x7f72ee1d6490>"
      ]
     },
     "metadata": {},
     "output_type": "display_data"
    }
   ],
   "source": [
    "interact(plot_solution, starx=fixed(starx), stary=fixed(stary),\n",
    "         galax=fixed(galax), galay=fixed(galay), j=(0,499), lim=(20,200,10));"
   ]
  },
  {
   "cell_type": "code",
   "execution_count": null,
   "metadata": {
    "collapsed": false
   },
   "outputs": [],
   "source": []
  },
  {
   "cell_type": "code",
   "execution_count": null,
   "metadata": {
    "collapsed": true
   },
   "outputs": [],
   "source": []
  }
 ],
 "metadata": {
  "kernelspec": {
   "display_name": "Python 2",
   "language": "python",
   "name": "python2"
  },
  "language_info": {
   "codemirror_mode": {
    "name": "ipython",
    "version": 2
   },
   "file_extension": ".py",
   "mimetype": "text/x-python",
   "name": "python",
   "nbconvert_exporter": "python",
   "pygments_lexer": "ipython2",
   "version": "2.7.6"
  }
 },
 "nbformat": 4,
 "nbformat_minor": 0
}
